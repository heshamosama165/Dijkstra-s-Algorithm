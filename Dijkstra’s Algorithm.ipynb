{
 "cells": [
  {
   "cell_type": "code",
   "execution_count": 11,
   "id": "58046ad7",
   "metadata": {},
   "outputs": [
    {
     "name": "stdout",
     "output_type": "stream",
     "text": [
      "Shortest path from SL to WA: ['SL', 'LV', 'LX', 'CN', 'MT', 'WA']\n",
      "Shortest distance from SL to WA: 892\n"
     ]
    }
   ],
   "source": [
    "import heapq\n",
    "\n",
    "# Define the graph using an adjacency list\n",
    "graph = {\n",
    "    'SL': {'CH': 300, 'IN': 245, 'LV' : 263, 'NV' : 312 },\n",
    "    'CH': {'SL': 300, 'IN': 201, 'CL': 362},\n",
    "    'IN': {'CH': 201, 'SL': 245, 'CO': 176, 'LV': 114, 'CI': 112},\n",
    "    'LV': {'IN': 114, 'SL': 263, 'LX': 86, 'NV' : 175 },\n",
    "    'NV': {'SL': 312, 'LV': 175, 'KV': 180},\n",
    "    'KV': {'NV': 180, 'LX': 170, 'GR': 299},\n",
    "    'LX': {'LV': 86, 'KV': 170, 'CI': 95 , 'CN': 177},\n",
    "    'CI': {'LX': 95, 'CN': 204, 'CO' : 105 , 'IN' : 112},\n",
    "    'CO': {'CL': 142, 'IN': 176 , 'CI' : 105 },\n",
    "    'CL': {'CH': 362, 'CO': 142, 'CN' : 251  , 'MT' : 201  , 'HB': 332 },\n",
    "    'CN': {'CL': 251, 'MT': 157, 'RI': 318 , 'GR': 244 , 'LX' : 177 , 'CI' :204  },\n",
    "    'GR': {'CN': 244 , 'RI': 205  , 'KV' : 299},\n",
    "    'RI': {'CN': 318, 'GR': 205 , 'WA' : 111 },\n",
    "    'MT': {'CL': 201, 'HB': 213 , 'WA' : 209 , 'CN' : 157 },\n",
    "    'HB': {'CL': 332, 'MT': 213 , 'WA' : 120 },\n",
    "    'WA': {'HB': 120, 'MT': 209 , 'RI' : 111 }\n",
    "        \n",
    "}\n",
    "\n",
    "def dijkstra(graph, start, end):\n",
    "    # Priority queue to store (distance, vertex) tuples\n",
    "    queue = [(0, start)]\n",
    "    # Dictionary to store the shortest path to each node\n",
    "    distances = {node: float('inf') for node in graph}\n",
    "    distances[start] = 0\n",
    "    # Dictionary to store the previous node in the shortest path\n",
    "    previous_nodes = {node: None for node in graph}\n",
    "\n",
    "    while queue:\n",
    "        # Get the node with the smallest distance\n",
    "        current_distance, current_node = heapq.heappop(queue)\n",
    "\n",
    "        # If we reached the end node, break out of the loop\n",
    "        if current_node == end:\n",
    "            break\n",
    "\n",
    "        # Explore the neighbors of the current node\n",
    "        for neighbor, weight in graph[current_node].items():\n",
    "            distance = current_distance + weight\n",
    "\n",
    "            # Only consider this new path if it's better\n",
    "            if distance < distances[neighbor]:\n",
    "                distances[neighbor] = distance\n",
    "                previous_nodes[neighbor] = current_node\n",
    "                heapq.heappush(queue, (distance, neighbor))\n",
    "\n",
    "    # Reconstruct the shortest path\n",
    "    path = []\n",
    "    while end is not None:\n",
    "        path.append(end)\n",
    "        end = previous_nodes[end]\n",
    "    path = path[::-1]  # Reverse the path\n",
    "\n",
    "    return path, distances[path[-1]]\n",
    "\n",
    "# Run Dijkstra's algorithm from 'SL' to 'WA'\n",
    "shortest_path, shortest_distance = dijkstra(graph, 'SL', 'WA')\n",
    "print(\"Shortest path from SL to WA:\", shortest_path)\n",
    "print(\"Shortest distance from SL to WA:\", shortest_distance)"
   ]
  },
  {
   "cell_type": "code",
   "execution_count": null,
   "id": "bd44e3f1",
   "metadata": {},
   "outputs": [],
   "source": []
  }
 ],
 "metadata": {
  "kernelspec": {
   "display_name": "Python 3 (ipykernel)",
   "language": "python",
   "name": "python3"
  },
  "language_info": {
   "codemirror_mode": {
    "name": "ipython",
    "version": 3
   },
   "file_extension": ".py",
   "mimetype": "text/x-python",
   "name": "python",
   "nbconvert_exporter": "python",
   "pygments_lexer": "ipython3",
   "version": "3.11.5"
  }
 },
 "nbformat": 4,
 "nbformat_minor": 5
}
